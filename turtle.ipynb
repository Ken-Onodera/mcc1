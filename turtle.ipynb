{
 "cells": [
  {
   "cell_type": "markdown",
   "id": "be91ed55",
   "metadata": {},
   "source": [
    "# タートルグラフィックス入門\n",
    "タートルグラフィックスでPythonの基礎を学びましょう\n",
    "\n",
    "## ColabTurtleのインストール\n",
    "以下の命令を実行して、ColabTurtleというライブラリをインストールしてください。\n",
    "一回インストールしたら、それ以降は、ずっと利用可能です。\n",
    "```\n",
    "pip install ColabTurtle\n",
    "```"
   ]
  },
  {
   "cell_type": "code",
   "execution_count": null,
   "id": "e8e84f99",
   "metadata": {},
   "outputs": [],
   "source": []
  },
  {
   "cell_type": "markdown",
   "id": "a6f8e5aa",
   "metadata": {},
   "source": [
    "### ライブラリの定義\n",
    "インストールしたライブラリを使用するためには、\n",
    "以下のようにライブラリを定義する必要があります。\n",
    "```python\n",
    "from ColabTurtle.Turtle import *\n",
    "```\n",
    "上記コードを入力して、実行してください。"
   ]
  },
  {
   "cell_type": "code",
   "execution_count": null,
   "id": "3c4bedb8",
   "metadata": {},
   "outputs": [],
   "source": []
  },
  {
   "cell_type": "markdown",
   "id": "0d4672df",
   "metadata": {},
   "source": [
    "## 図形の描画\n",
    "タートルグラフィックスを利用するための準備が整ったので、早速、様々な図形を描画していきましょう。\n",
    "### 図形の初期化\n",
    "図形を描画するときは、最初に\n",
    "```python\n",
    "initializeTurtle()\n",
    "```\n",
    "を実行し、カーソル（亀）の位置や向きを初期化します。\n",
    "実行結果として、幅：800px、 高さ500pxのキャンバスが表示され、キャンバスの中央に上を向いた亀が表示されます。\n",
    "この亀を動かしながら図形を描画していきます。\n",
    "上記コードを入力して、実行してください。"
   ]
  },
  {
   "cell_type": "code",
   "execution_count": null,
   "id": "8e975295",
   "metadata": {},
   "outputs": [],
   "source": []
  },
  {
   "cell_type": "markdown",
   "id": "89344464",
   "metadata": {},
   "source": [
    "### 線を描画する\n",
    "ペンをあがたままで、亀を座標(100, 400)に移動し、ペンを下して、亀の進行方向（ここでは上方向）に300だけ移動させます。ペンを下した状態で亀を移動させると、その軌跡が線として描画されます。\n",
    "このとき、ペンを上げるのは`penup()`、亀を特定の座標(x, y)に移動させるには`goto(x, y)`、亀を進行方向に移動させるには`forward(移動量)`を指示します。\n",
    "\n",
    "ここまでの処理をプログラミングして実行してください。"
   ]
  },
  {
   "cell_type": "code",
   "execution_count": null,
   "id": "15c64772",
   "metadata": {},
   "outputs": [],
   "source": []
  },
  {
   "cell_type": "markdown",
   "id": "bf8c3ae3",
   "metadata": {},
   "source": [
    "### 亀を回転する\n",
    "次に、ペンを下して、亀を右に90度だけ回転させ、亀の進行方向（ここでは右向き）に300だけ移動させます。\n",
    "亀の向きを右方向にn度回転させるには`right(n)`、左方向にn度回転させるには`left(n)`を指示します。\n",
    "移動が終わったら、ペンを上げます。\n",
    "\n",
    "ここまでの処理をプログラミングして実行してください。"
   ]
  },
  {
   "cell_type": "code",
   "execution_count": null,
   "id": "a569daaf",
   "metadata": {},
   "outputs": [],
   "source": []
  },
  {
   "cell_type": "markdown",
   "id": "8d1627b9",
   "metadata": {},
   "source": [
    "### 正方形を描く\n",
    "最後に、ペンを下して、亀の右向き90度の回転と、亀の進行方向への300の移動を2回繰り返します。\n",
    "この結果、正方形が完成します。\n",
    "\n",
    "ここまでの処理をプログラミングして実行してください。"
   ]
  },
  {
   "cell_type": "code",
   "execution_count": null,
   "id": "cd20ed96",
   "metadata": {},
   "outputs": [],
   "source": []
  },
  {
   "cell_type": "markdown",
   "id": "0974f05c",
   "metadata": {},
   "source": [
    "### 正三角形を描く\n",
    "次に正三角形を描いてみましょう。\n",
    "正方形と異なるのは、亀の回転する角度と、亀の移動の繰り返しの回数です。\n",
    "正方形では、90度の回転をしていましたが、正三角形では120度の回転が必要です。\n",
    "また、正三角形は３辺で構成されるため、移動と回転の繰り返しは３回で完成します。\n",
    "\n",
    "ここまでの処理をプログラミングして実行してください。\n",
    "なお、画面を最初に初期化してから実行してください。"
   ]
  },
  {
   "cell_type": "code",
   "execution_count": null,
   "id": "79c40ed7",
   "metadata": {},
   "outputs": [],
   "source": []
  },
  {
   "cell_type": "markdown",
   "id": "2d03bbd4",
   "metadata": {},
   "source": [
    "亀は最初に上を向いているので左辺が垂直の正三角形になりました。\n",
    "最初に亀の向きを30度右向きにしておくと、下辺が水平の正三角形になります。\n",
    "\n",
    "### 正多角形を描画する\n",
    "正三角形や正方形だけでなく、正五角形、正六角形など様々な正多角形を描画してみましょう。\n",
    "\n",
    "正三角形は120度回転と移動を3回繰り返しました。\n",
    "正方形は90度回転と移動を4回繰り返しました。\n",
    "\n",
    "実は、同様に正N角形は360度÷N回転をN回繰り返すと完成します。\n",
    "\n",
    "そこで、この処理を`polygon()`という関数に定義してみましょう。\n",
    "関数の引数（関数に渡す値、()の中に記述）は、N角形のNの値と\n",
    "移動量にします。\n",
    "\n",
    "関数は\n",
    "```python\n",
    "def polygon(n, d):\n",
    "    処理\n",
    "```\n",
    "のように定義します\n",
    "\n",
    "n繰り返す処理は\n",
    "```python\n",
    "for i in range(n):\n",
    "    処理\n",
    "```\n",
    "のように記述します。\n",
    "\n",
    "回転角度は`angle = 360 / n`で得られ、`right(angle)`を実行すれば回転します。\n",
    "移動は`forward(d)`で実行します。\n",
    "\n",
    "定義した関数は`polygon(3, 300)`のように実行します。\n",
    "\n",
    "\n",
    "関数`polygon()`を定義し、１辺300の3角形を描画するプログラムを作成してください。"
   ]
  },
  {
   "cell_type": "code",
   "execution_count": null,
   "id": "9a19b0ed",
   "metadata": {},
   "outputs": [],
   "source": []
  },
  {
   "cell_type": "markdown",
   "id": "9f991687",
   "metadata": {},
   "source": [
    "### 円を描く\n",
    "正多角形を描画するプログラムを使って、角の数を大きくし、辺の長さを小さくすると限りなく円に近づきます。\n",
    "\n",
    "角の数を90、辺の長さを5にして、`polygon()`を実行してみましょう。"
   ]
  },
  {
   "cell_type": "code",
   "execution_count": null,
   "id": "e1e6cd2c",
   "metadata": {},
   "outputs": [],
   "source": []
  },
  {
   "cell_type": "markdown",
   "id": "e0b63d77",
   "metadata": {},
   "source": [
    "円を描くことができました。\n",
    "時間がかかるのは亀なのでがまんしましょう。\n",
    "\n",
    "### 半径を指定して、指定位置を中心とした円を描く\n",
    "円を描画するときは、通常、円の中心と半径を指定します。\n",
    "そのような関数`circle(x, y, r)`を作成してみましょう。\n",
    "\n",
    "まず、位置ですが`goto(x, y)`で移動します。\n",
    "描画の開始点は円周上なので円の中心(x, y)からx方向に半径分だけ左移動させ、`goto(x-r, y)`とします。\n",
    "\n",
    "次に`polygon(n, d)`関数を実行して、近似円を作成します。\n",
    "\n",
    "近似する角の数(n)はとりあえず90とします。（この値を大きくした方がより円に近づきますが、あまり大きくすると亀の動きが遅くなり、時間がかかります）\n",
    "\n",
    "移動量(d)ですが、皆さんは学校で「半径から円周の長さを求める」方法を習っていると思います。\n",
    "`円周の長さ ＝ 直径(半径×2) × 円周率(3.14)`ですね。\n",
    "移動量の総和（`全ての移動量を足したもの ＝ 移動量×n(90)`）が円周の長さと等しくなります。\n",
    "従って、`移動量 ＝ 半径×2×3.14÷n(90)`になります。\n",
    "\n",
    "それでは、関数`circle(x, y, r)` を定義して、座標(200, 200)を中心とする半径100の円を描いてみましょう。"
   ]
  },
  {
   "cell_type": "code",
   "execution_count": null,
   "id": "48aebfbe",
   "metadata": {},
   "outputs": [],
   "source": []
  },
  {
   "cell_type": "markdown",
   "id": "7286c619",
   "metadata": {},
   "source": [
    "### 線に色を付ける\n",
    "線に色を付けてみましょう。\n",
    "\n",
    "`color(\"色\")`で線に色を付けることができます。\n",
    "\n",
    "例えば以下のような色が指定できます。\n",
    "* red （赤）\n",
    "* blue （青）\n",
    "* green （緑）\n",
    "* yellow （黄）\n",
    "* purple （紫）\n",
    "* pink （ピンク）\n",
    "\n",
    "多角形に色を付けて描画してみましょう。"
   ]
  },
  {
   "cell_type": "code",
   "execution_count": null,
   "id": "604bb663",
   "metadata": {},
   "outputs": [],
   "source": []
  },
  {
   "cell_type": "markdown",
   "id": "28d7541e",
   "metadata": {},
   "source": [
    "途中で色を変えることもできます。\n",
    "\n",
    "### ペンの太さを変える\n",
    "ペンの太さをかえてみましょう。\n",
    "\n",
    "`pensize(ペンの太さ)`でペンの太さを変えることができます。\n",
    "\n",
    "いろいろな太さで多角形を描画してみましょう。"
   ]
  },
  {
   "cell_type": "code",
   "execution_count": null,
   "id": "85976430",
   "metadata": {},
   "outputs": [],
   "source": []
  },
  {
   "cell_type": "markdown",
   "id": "24dc9cdd",
   "metadata": {},
   "source": [
    "## 文字の描画\n",
    "図形だけでなく文字を描画することも可能です。\n",
    "\n",
    "文字を描画するには`write(文字, font=文字のフォント)`を指示します。\n",
    "フォントは、`(文字の大きさ, フォントの種類, フォントのスタイル)`で構成されています。\n",
    "```python\n",
    "write(\"T\", font=(40, \"Arial\", \"normal\"))\n",
    "```\n",
    "のように指定します。\n",
    "\n",
    "文字を描く位置に移動し、文字の書く方向に回転し、文字を描いたら移動して次の文字を描きます。\n",
    "ペンは上げたままです。\n",
    "\n",
    "それでは、座標(100, 250)から100ずつ右に移動しながら\"TURTLE\"と描いてみましょう。"
   ]
  },
  {
   "cell_type": "code",
   "execution_count": null,
   "id": "af8ab6ec",
   "metadata": {},
   "outputs": [],
   "source": []
  },
  {
   "cell_type": "markdown",
   "id": "c0863d4d",
   "metadata": {},
   "source": [
    "最後の文字を描いた後も亀を移動した方が見やすいです。"
   ]
  },
  {
   "cell_type": "markdown",
   "id": "175cb70e",
   "metadata": {},
   "source": [
    "### 日本語を描画する\n",
    "日本語を描画してみましょう。\n",
    "\n",
    "```python\n",
    "write(\"T\", font=(40, \"Arial\", \"normal\"))\n",
    "```\n",
    "を\n",
    "```python\n",
    "write(\"あ\", font=(40, \"Mincho\", \"normal\"))\n",
    "```\n",
    "に書き換えて、実行してみましょう"
   ]
  },
  {
   "cell_type": "code",
   "execution_count": null,
   "id": "e782cb8a",
   "metadata": {},
   "outputs": [],
   "source": []
  },
  {
   "cell_type": "markdown",
   "id": "9767d11c",
   "metadata": {},
   "source": [
    "「あ」と表示されます。\n",
    "「TURTLE」と同じように、好きな日本語も文字を複数描画してみましょう。"
   ]
  },
  {
   "cell_type": "code",
   "execution_count": null,
   "id": "135616ff",
   "metadata": {},
   "outputs": [],
   "source": []
  },
  {
   "cell_type": "markdown",
   "id": "c920a8fd",
   "metadata": {},
   "source": [
    "### 文字列を描画する\n",
    "文字を描画する関数`write()`を組み合わせて文字列を描画する関数`writeString()`を作成してみましょう。\n",
    "\n",
    "引数として、「文字列(str)、移動量(d)、フォント(font)」を指定します。\n",
    "文字列は、\n",
    "```\n",
    "for c in str:\n",
    "    write(c, font=font)\n",
    "    forward(d)\n",
    "```\n",
    "のようにすると１文字ずつ描画、移動することができます。\n",
    "\n",
    "`writeString()`を作成し、80ずつ移動しながらフォント(40, \"Mincho\", \"normal\")で\"三浦コンピュータ\"を描いてみましょう。"
   ]
  },
  {
   "cell_type": "code",
   "execution_count": null,
   "id": "dbe192ce",
   "metadata": {},
   "outputs": [],
   "source": []
  },
  {
   "cell_type": "markdown",
   "id": "ae3a9959",
   "metadata": {},
   "source": [
    "## 課題\n",
    "文字列を文字列の長さ角形（３文字なら３角形）の頂点に描いていくプログラムを作成してください。\n",
    "`polygon()`と`writeString()`を組み合わせた`polygonString()`関数を作成してみましょう。\n",
    "なお、文字列の長さnは`len(str)`で求めることができます。\n",
    "\n",
    "`(40, \"Arial\", \"normal\")`で`\"TURTLE\"`を描画してください。"
   ]
  },
  {
   "cell_type": "code",
   "execution_count": null,
   "id": "28ff0154",
   "metadata": {},
   "outputs": [],
   "source": []
  }
 ],
 "metadata": {
  "kernelspec": {
   "display_name": "Python 3 (ipykernel)",
   "language": "python",
   "name": "python3"
  },
  "language_info": {
   "codemirror_mode": {
    "name": "ipython",
    "version": 3
   },
   "file_extension": ".py",
   "mimetype": "text/x-python",
   "name": "python",
   "nbconvert_exporter": "python",
   "pygments_lexer": "ipython3",
   "version": "3.7.15"
  }
 },
 "nbformat": 4,
 "nbformat_minor": 5
}
